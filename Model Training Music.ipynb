{
 "cells": [
  {
   "cell_type": "code",
   "execution_count": 3,
   "id": "df37ca62-cb14-47a3-9051-ae531c8d1415",
   "metadata": {},
   "outputs": [],
   "source": [
    "import os"
   ]
  },
  {
   "cell_type": "code",
   "execution_count": 4,
   "id": "b3870a75-e6c9-41e4-836c-ec7b087c7678",
   "metadata": {},
   "outputs": [
    {
     "name": "stdout",
     "output_type": "stream",
     "text": [
      "C:\\Users\\user\n"
     ]
    }
   ],
   "source": [
    "print(os.getcwd())\n"
   ]
  },
  {
   "cell_type": "code",
   "execution_count": 5,
   "id": "0088a05d-8711-4dca-97a9-75778fe5a0de",
   "metadata": {},
   "outputs": [
    {
     "name": "stdout",
     "output_type": "stream",
     "text": [
      "True\n"
     ]
    }
   ],
   "source": [
    "print(os.path.exists(r'C:\\Users\\user\\Desktop\\spotify_millsongdata.csv'))\n"
   ]
  },
  {
   "cell_type": "code",
   "execution_count": 6,
   "id": "ecddc304-3e3a-4809-8a3d-ddbea83e8cd7",
   "metadata": {},
   "outputs": [],
   "source": [
    "import pandas as pd"
   ]
  },
  {
   "cell_type": "code",
   "execution_count": 7,
   "id": "60a1c0b3-dab8-4d0c-a310-c14e498a7c17",
   "metadata": {},
   "outputs": [],
   "source": [
    " df = pd.read_csv(r'C:\\Users\\user\\Desktop\\spotify_millsongdata.csv')\n"
   ]
  },
  {
   "cell_type": "code",
   "execution_count": 8,
   "id": "5c17f51d-abe8-499d-a954-b31156c5eab0",
   "metadata": {},
   "outputs": [
    {
     "data": {
      "text/html": [
       "<div>\n",
       "<style scoped>\n",
       "    .dataframe tbody tr th:only-of-type {\n",
       "        vertical-align: middle;\n",
       "    }\n",
       "\n",
       "    .dataframe tbody tr th {\n",
       "        vertical-align: top;\n",
       "    }\n",
       "\n",
       "    .dataframe thead th {\n",
       "        text-align: right;\n",
       "    }\n",
       "</style>\n",
       "<table border=\"1\" class=\"dataframe\">\n",
       "  <thead>\n",
       "    <tr style=\"text-align: right;\">\n",
       "      <th></th>\n",
       "      <th>artist</th>\n",
       "      <th>song</th>\n",
       "      <th>link</th>\n",
       "      <th>text</th>\n",
       "    </tr>\n",
       "  </thead>\n",
       "  <tbody>\n",
       "    <tr>\n",
       "      <th>0</th>\n",
       "      <td>ABBA</td>\n",
       "      <td>Ahe's My Kind Of Girl</td>\n",
       "      <td>/a/abba/ahes+my+kind+of+girl_20598417.html</td>\n",
       "      <td>Look at her face, it's a wonderful face  \\r\\nA...</td>\n",
       "    </tr>\n",
       "    <tr>\n",
       "      <th>1</th>\n",
       "      <td>ABBA</td>\n",
       "      <td>Andante, Andante</td>\n",
       "      <td>/a/abba/andante+andante_20002708.html</td>\n",
       "      <td>Take it easy with me, please  \\r\\nTouch me gen...</td>\n",
       "    </tr>\n",
       "    <tr>\n",
       "      <th>2</th>\n",
       "      <td>ABBA</td>\n",
       "      <td>As Good As New</td>\n",
       "      <td>/a/abba/as+good+as+new_20003033.html</td>\n",
       "      <td>I'll never know why I had to go  \\r\\nWhy I had...</td>\n",
       "    </tr>\n",
       "    <tr>\n",
       "      <th>3</th>\n",
       "      <td>ABBA</td>\n",
       "      <td>Bang</td>\n",
       "      <td>/a/abba/bang_20598415.html</td>\n",
       "      <td>Making somebody happy is a question of give an...</td>\n",
       "    </tr>\n",
       "    <tr>\n",
       "      <th>4</th>\n",
       "      <td>ABBA</td>\n",
       "      <td>Bang-A-Boomerang</td>\n",
       "      <td>/a/abba/bang+a+boomerang_20002668.html</td>\n",
       "      <td>Making somebody happy is a question of give an...</td>\n",
       "    </tr>\n",
       "  </tbody>\n",
       "</table>\n",
       "</div>"
      ],
      "text/plain": [
       "  artist                   song                                        link  \\\n",
       "0   ABBA  Ahe's My Kind Of Girl  /a/abba/ahes+my+kind+of+girl_20598417.html   \n",
       "1   ABBA       Andante, Andante       /a/abba/andante+andante_20002708.html   \n",
       "2   ABBA         As Good As New        /a/abba/as+good+as+new_20003033.html   \n",
       "3   ABBA                   Bang                  /a/abba/bang_20598415.html   \n",
       "4   ABBA       Bang-A-Boomerang      /a/abba/bang+a+boomerang_20002668.html   \n",
       "\n",
       "                                                text  \n",
       "0  Look at her face, it's a wonderful face  \\r\\nA...  \n",
       "1  Take it easy with me, please  \\r\\nTouch me gen...  \n",
       "2  I'll never know why I had to go  \\r\\nWhy I had...  \n",
       "3  Making somebody happy is a question of give an...  \n",
       "4  Making somebody happy is a question of give an...  "
      ]
     },
     "execution_count": 8,
     "metadata": {},
     "output_type": "execute_result"
    }
   ],
   "source": [
    "df.head(5)\n"
   ]
  },
  {
   "cell_type": "code",
   "execution_count": 9,
   "id": "c930e3a3-d378-4bf2-b602-e3410de8a052",
   "metadata": {},
   "outputs": [
    {
     "data": {
      "text/html": [
       "<div>\n",
       "<style scoped>\n",
       "    .dataframe tbody tr th:only-of-type {\n",
       "        vertical-align: middle;\n",
       "    }\n",
       "\n",
       "    .dataframe tbody tr th {\n",
       "        vertical-align: top;\n",
       "    }\n",
       "\n",
       "    .dataframe thead th {\n",
       "        text-align: right;\n",
       "    }\n",
       "</style>\n",
       "<table border=\"1\" class=\"dataframe\">\n",
       "  <thead>\n",
       "    <tr style=\"text-align: right;\">\n",
       "      <th></th>\n",
       "      <th>artist</th>\n",
       "      <th>song</th>\n",
       "      <th>link</th>\n",
       "      <th>text</th>\n",
       "    </tr>\n",
       "  </thead>\n",
       "  <tbody>\n",
       "    <tr>\n",
       "      <th>57645</th>\n",
       "      <td>Ziggy Marley</td>\n",
       "      <td>Good Old Days</td>\n",
       "      <td>/z/ziggy+marley/good+old+days_10198588.html</td>\n",
       "      <td>Irie days come on play  \\r\\nLet the angels fly...</td>\n",
       "    </tr>\n",
       "    <tr>\n",
       "      <th>57646</th>\n",
       "      <td>Ziggy Marley</td>\n",
       "      <td>Hand To Mouth</td>\n",
       "      <td>/z/ziggy+marley/hand+to+mouth_20531167.html</td>\n",
       "      <td>Power to the workers  \\r\\nMore power  \\r\\nPowe...</td>\n",
       "    </tr>\n",
       "    <tr>\n",
       "      <th>57647</th>\n",
       "      <td>Zwan</td>\n",
       "      <td>Come With Me</td>\n",
       "      <td>/z/zwan/come+with+me_20148981.html</td>\n",
       "      <td>all you need  \\r\\nis something i'll believe  \\...</td>\n",
       "    </tr>\n",
       "    <tr>\n",
       "      <th>57648</th>\n",
       "      <td>Zwan</td>\n",
       "      <td>Desire</td>\n",
       "      <td>/z/zwan/desire_20148986.html</td>\n",
       "      <td>northern star  \\r\\nam i frightened  \\r\\nwhere ...</td>\n",
       "    </tr>\n",
       "    <tr>\n",
       "      <th>57649</th>\n",
       "      <td>Zwan</td>\n",
       "      <td>Heartsong</td>\n",
       "      <td>/z/zwan/heartsong_20148991.html</td>\n",
       "      <td>come in  \\r\\nmake yourself at home  \\r\\ni'm a ...</td>\n",
       "    </tr>\n",
       "  </tbody>\n",
       "</table>\n",
       "</div>"
      ],
      "text/plain": [
       "             artist           song  \\\n",
       "57645  Ziggy Marley  Good Old Days   \n",
       "57646  Ziggy Marley  Hand To Mouth   \n",
       "57647          Zwan   Come With Me   \n",
       "57648          Zwan         Desire   \n",
       "57649          Zwan      Heartsong   \n",
       "\n",
       "                                              link  \\\n",
       "57645  /z/ziggy+marley/good+old+days_10198588.html   \n",
       "57646  /z/ziggy+marley/hand+to+mouth_20531167.html   \n",
       "57647           /z/zwan/come+with+me_20148981.html   \n",
       "57648                 /z/zwan/desire_20148986.html   \n",
       "57649              /z/zwan/heartsong_20148991.html   \n",
       "\n",
       "                                                    text  \n",
       "57645  Irie days come on play  \\r\\nLet the angels fly...  \n",
       "57646  Power to the workers  \\r\\nMore power  \\r\\nPowe...  \n",
       "57647  all you need  \\r\\nis something i'll believe  \\...  \n",
       "57648  northern star  \\r\\nam i frightened  \\r\\nwhere ...  \n",
       "57649  come in  \\r\\nmake yourself at home  \\r\\ni'm a ...  "
      ]
     },
     "execution_count": 9,
     "metadata": {},
     "output_type": "execute_result"
    }
   ],
   "source": [
    "df.tail(5)"
   ]
  },
  {
   "cell_type": "code",
   "execution_count": 10,
   "id": "b55ae5bd-1cc0-4b5a-9e49-4fc8bcc498f6",
   "metadata": {},
   "outputs": [
    {
     "data": {
      "text/plain": [
       "(57650, 4)"
      ]
     },
     "execution_count": 10,
     "metadata": {},
     "output_type": "execute_result"
    }
   ],
   "source": [
    "df.shape\n"
   ]
  },
  {
   "cell_type": "code",
   "execution_count": 11,
   "id": "3f3cfe55-ecc5-4d16-b602-5fd13e95186a",
   "metadata": {},
   "outputs": [
    {
     "data": {
      "text/plain": [
       "artist    0\n",
       "song      0\n",
       "link      0\n",
       "text      0\n",
       "dtype: int64"
      ]
     },
     "execution_count": 11,
     "metadata": {},
     "output_type": "execute_result"
    }
   ],
   "source": [
    "df.isnull().sum()"
   ]
  },
  {
   "cell_type": "code",
   "execution_count": 12,
   "id": "1d91e9a1-1905-4a95-a41b-379626bbfbbf",
   "metadata": {},
   "outputs": [],
   "source": [
    "df = df.sample(5000).drop('link', axis=1).reset_index(drop=True)\n"
   ]
  },
  {
   "cell_type": "code",
   "execution_count": 13,
   "id": "61d95599-7a00-461b-9ac4-f79000d13479",
   "metadata": {},
   "outputs": [
    {
     "data": {
      "text/html": [
       "<div>\n",
       "<style scoped>\n",
       "    .dataframe tbody tr th:only-of-type {\n",
       "        vertical-align: middle;\n",
       "    }\n",
       "\n",
       "    .dataframe tbody tr th {\n",
       "        vertical-align: top;\n",
       "    }\n",
       "\n",
       "    .dataframe thead th {\n",
       "        text-align: right;\n",
       "    }\n",
       "</style>\n",
       "<table border=\"1\" class=\"dataframe\">\n",
       "  <thead>\n",
       "    <tr style=\"text-align: right;\">\n",
       "      <th></th>\n",
       "      <th>artist</th>\n",
       "      <th>song</th>\n",
       "      <th>text</th>\n",
       "    </tr>\n",
       "  </thead>\n",
       "  <tbody>\n",
       "    <tr>\n",
       "      <th>0</th>\n",
       "      <td>Uriah Heep</td>\n",
       "      <td>All God's Children</td>\n",
       "      <td>Crazy little whirlwind child  \\r\\nPretty babie...</td>\n",
       "    </tr>\n",
       "    <tr>\n",
       "      <th>1</th>\n",
       "      <td>Faith Hill</td>\n",
       "      <td>It Matters To Me</td>\n",
       "      <td>Baby tell me where'd you ever learn  \\r\\nTo fi...</td>\n",
       "    </tr>\n",
       "    <tr>\n",
       "      <th>2</th>\n",
       "      <td>Scorpions</td>\n",
       "      <td>Media Overkill</td>\n",
       "      <td>They're watching me  \\r\\nThey're watching you ...</td>\n",
       "    </tr>\n",
       "    <tr>\n",
       "      <th>3</th>\n",
       "      <td>Natalie Cole</td>\n",
       "      <td>Ev'ry Time We Say Goodbye</td>\n",
       "      <td>Everytime we say goodbye, I die a little,  \\r\\...</td>\n",
       "    </tr>\n",
       "    <tr>\n",
       "      <th>4</th>\n",
       "      <td>Reo Speedwagon</td>\n",
       "      <td>Every Now And Then</td>\n",
       "      <td>Every now and then when the lights are low  \\r...</td>\n",
       "    </tr>\n",
       "    <tr>\n",
       "      <th>5</th>\n",
       "      <td>Cliff Richard</td>\n",
       "      <td>Ocean Deep</td>\n",
       "      <td>Love, can't you see I'm alone  \\r\\nCan't you g...</td>\n",
       "    </tr>\n",
       "    <tr>\n",
       "      <th>6</th>\n",
       "      <td>The Killers</td>\n",
       "      <td>Under The Gun</td>\n",
       "      <td>She's got her halo and wings  \\r\\nHidden under...</td>\n",
       "    </tr>\n",
       "    <tr>\n",
       "      <th>7</th>\n",
       "      <td>Elvis Costello</td>\n",
       "      <td>Deep Dark Truthful Mirror</td>\n",
       "      <td>One day you're going to have to face  \\r\\nA de...</td>\n",
       "    </tr>\n",
       "    <tr>\n",
       "      <th>8</th>\n",
       "      <td>X-Ray Spex</td>\n",
       "      <td>Good Time Girl</td>\n",
       "      <td>I don't want to be? I don't want to be  \\r\\nA ...</td>\n",
       "    </tr>\n",
       "    <tr>\n",
       "      <th>9</th>\n",
       "      <td>Gino Vannelli</td>\n",
       "      <td>Summers Of My Life</td>\n",
       "      <td>The sea is sad the world is stray  \\r\\nThe lov...</td>\n",
       "    </tr>\n",
       "  </tbody>\n",
       "</table>\n",
       "</div>"
      ],
      "text/plain": [
       "           artist                       song  \\\n",
       "0      Uriah Heep         All God's Children   \n",
       "1      Faith Hill           It Matters To Me   \n",
       "2       Scorpions             Media Overkill   \n",
       "3    Natalie Cole  Ev'ry Time We Say Goodbye   \n",
       "4  Reo Speedwagon         Every Now And Then   \n",
       "5   Cliff Richard                 Ocean Deep   \n",
       "6     The Killers              Under The Gun   \n",
       "7  Elvis Costello  Deep Dark Truthful Mirror   \n",
       "8      X-Ray Spex             Good Time Girl   \n",
       "9   Gino Vannelli         Summers Of My Life   \n",
       "\n",
       "                                                text  \n",
       "0  Crazy little whirlwind child  \\r\\nPretty babie...  \n",
       "1  Baby tell me where'd you ever learn  \\r\\nTo fi...  \n",
       "2  They're watching me  \\r\\nThey're watching you ...  \n",
       "3  Everytime we say goodbye, I die a little,  \\r\\...  \n",
       "4  Every now and then when the lights are low  \\r...  \n",
       "5  Love, can't you see I'm alone  \\r\\nCan't you g...  \n",
       "6  She's got her halo and wings  \\r\\nHidden under...  \n",
       "7  One day you're going to have to face  \\r\\nA de...  \n",
       "8  I don't want to be? I don't want to be  \\r\\nA ...  \n",
       "9  The sea is sad the world is stray  \\r\\nThe lov...  "
      ]
     },
     "execution_count": 13,
     "metadata": {},
     "output_type": "execute_result"
    }
   ],
   "source": [
    "df.head(10)"
   ]
  },
  {
   "cell_type": "code",
   "execution_count": 14,
   "id": "c0a11c8c-7367-478f-83dc-db6ad0797c99",
   "metadata": {},
   "outputs": [
    {
     "data": {
      "text/plain": [
       "\"Crazy little whirlwind child  \\r\\nPretty babies drive ya wild  \\r\\nLook like one, act like another  \\r\\nEvery night a different lover  \\r\\nGet affection where you can  \\r\\nTry a boy then try a man  \\r\\nFirst time love is in the past  \\r\\nMake it young and make it fast  \\r\\nAll god's children will have their say  \\r\\nAll god's children  \\r\\nMust have their way  \\r\\nIt's a game where you can cheat  \\r\\nLovers falling at your feet  \\r\\nHigh on sensuality  \\r\\nA photograph for all to see  \\r\\nFirst time love is in the past  \\r\\nMake it young and make it fast  \\r\\nThey can never get enough  \\r\\nStrong as death and sweet as love  \\r\\nThey walk and talk like angels  \\r\\nThey walk and talk like angels ...  \\r\\n\\r\\n\""
      ]
     },
     "execution_count": 14,
     "metadata": {},
     "output_type": "execute_result"
    }
   ],
   "source": [
    "df['text'][0]"
   ]
  },
  {
   "cell_type": "code",
   "execution_count": 15,
   "id": "466eeb04-e71e-4e0a-aba1-2d52948a142d",
   "metadata": {},
   "outputs": [],
   "source": [
    "df = df.sample(5000)"
   ]
  },
  {
   "cell_type": "code",
   "execution_count": 16,
   "id": "e5122348-2008-4b01-84fc-7b58286e9956",
   "metadata": {},
   "outputs": [
    {
     "data": {
      "text/plain": [
       "(5000, 3)"
      ]
     },
     "execution_count": 16,
     "metadata": {},
     "output_type": "execute_result"
    }
   ],
   "source": [
    "df.shape"
   ]
  },
  {
   "cell_type": "markdown",
   "id": "3235b78b-7a7e-430a-8adb-923bb414e5b4",
   "metadata": {},
   "source": [
    "Text Cleaning/ Text Preprocessing"
   ]
  },
  {
   "cell_type": "code",
   "execution_count": 17,
   "id": "86882c72-129e-486b-8ca9-d03eb775831f",
   "metadata": {},
   "outputs": [],
   "source": [
    " df ['text'] = df['text'].str.lower().replace(r'^\\w\\s', ' ').replace(r'\\n', ' ', regex = True)\n"
   ]
  },
  {
   "cell_type": "code",
   "execution_count": 18,
   "id": "eb50062c-3dfa-42d4-824c-210855449f61",
   "metadata": {},
   "outputs": [
    {
     "data": {
      "text/html": [
       "<div>\n",
       "<style scoped>\n",
       "    .dataframe tbody tr th:only-of-type {\n",
       "        vertical-align: middle;\n",
       "    }\n",
       "\n",
       "    .dataframe tbody tr th {\n",
       "        vertical-align: top;\n",
       "    }\n",
       "\n",
       "    .dataframe thead th {\n",
       "        text-align: right;\n",
       "    }\n",
       "</style>\n",
       "<table border=\"1\" class=\"dataframe\">\n",
       "  <thead>\n",
       "    <tr style=\"text-align: right;\">\n",
       "      <th></th>\n",
       "      <th>artist</th>\n",
       "      <th>song</th>\n",
       "      <th>text</th>\n",
       "    </tr>\n",
       "  </thead>\n",
       "  <tbody>\n",
       "    <tr>\n",
       "      <th>4691</th>\n",
       "      <td>HIM</td>\n",
       "      <td>Like St. Valentine</td>\n",
       "      <td>in the name of love lost  \\r i'm frozen to her...</td>\n",
       "    </tr>\n",
       "    <tr>\n",
       "      <th>1874</th>\n",
       "      <td>Ozzy Osbourne</td>\n",
       "      <td>Crazy Babies</td>\n",
       "      <td>crazy  \\r babies  \\r   \\r crazy babies never s...</td>\n",
       "    </tr>\n",
       "    <tr>\n",
       "      <th>2233</th>\n",
       "      <td>Hillsong United</td>\n",
       "      <td>I Know It</td>\n",
       "      <td>i know it, i know it  \\r his blood has set me ...</td>\n",
       "    </tr>\n",
       "    <tr>\n",
       "      <th>2920</th>\n",
       "      <td>John Denver</td>\n",
       "      <td>Hey Old Pal</td>\n",
       "      <td>this song was first released on the rocky moun...</td>\n",
       "    </tr>\n",
       "    <tr>\n",
       "      <th>1320</th>\n",
       "      <td>Marianne Faithfull</td>\n",
       "      <td>Good Guy</td>\n",
       "      <td>(bert's blues)  \\r i've been looking for a goo...</td>\n",
       "    </tr>\n",
       "  </tbody>\n",
       "</table>\n",
       "</div>"
      ],
      "text/plain": [
       "                  artist                song  \\\n",
       "4691                 HIM  Like St. Valentine   \n",
       "1874       Ozzy Osbourne        Crazy Babies   \n",
       "2233     Hillsong United           I Know It   \n",
       "2920         John Denver         Hey Old Pal   \n",
       "1320  Marianne Faithfull            Good Guy   \n",
       "\n",
       "                                                   text  \n",
       "4691  in the name of love lost  \\r i'm frozen to her...  \n",
       "1874  crazy  \\r babies  \\r   \\r crazy babies never s...  \n",
       "2233  i know it, i know it  \\r his blood has set me ...  \n",
       "2920  this song was first released on the rocky moun...  \n",
       "1320  (bert's blues)  \\r i've been looking for a goo...  "
      ]
     },
     "execution_count": 18,
     "metadata": {},
     "output_type": "execute_result"
    }
   ],
   "source": [
    "df.tail(5)"
   ]
  },
  {
   "cell_type": "code",
   "execution_count": 19,
   "id": "5afecf77-7f5c-41c8-b6f6-bf81b5e4cced",
   "metadata": {},
   "outputs": [],
   "source": [
    "#import nltk \n",
    "#nltk.download('punkt_tab')\n"
   ]
  },
  {
   "cell_type": "code",
   "execution_count": 20,
   "id": "6dca7860-7d45-4656-af71-fe13517f002d",
   "metadata": {},
   "outputs": [],
   "source": [
    "import nltk\n",
    "from nltk.stem.porter import PorterStemmer\n"
   ]
  },
  {
   "cell_type": "code",
   "execution_count": 21,
   "id": "1eae799f-1b98-44cb-8a26-7a7d64f6bc15",
   "metadata": {},
   "outputs": [],
   "source": [
    "stemmer = PorterStemmer()\n"
   ]
  },
  {
   "cell_type": "code",
   "execution_count": 22,
   "id": "bd7d512a-185c-4b67-b73a-bd6394704980",
   "metadata": {},
   "outputs": [],
   "source": [
    "def token(txt):\n",
    "    token = nltk.word_tokenize(txt)\n",
    "    a = [stemmer.stem(w) for w in token]\n",
    "    return \" \".join(a)\n",
    "    "
   ]
  },
  {
   "cell_type": "code",
   "execution_count": 23,
   "id": "a91888a6-52b6-48e4-a5df-78cbd28334b5",
   "metadata": {},
   "outputs": [
    {
     "data": {
      "text/plain": [
       "'you are beatuti , beauti'"
      ]
     },
     "execution_count": 23,
     "metadata": {},
     "output_type": "execute_result"
    }
   ],
   "source": [
    "token(\"you are beatutiful, beauty\")"
   ]
  },
  {
   "cell_type": "code",
   "execution_count": 24,
   "id": "e2d13381-1d1f-4aa2-8878-b60e7820fd62",
   "metadata": {},
   "outputs": [
    {
     "data": {
      "text/plain": [
       "4816    if time itself wa hi demeanor there 'd be no s...\n",
       "4923    there 's a black man with a black cat live in ...\n",
       "2467    my funni valentin , sweet comic valentin you m...\n",
       "610     i have to sit down for ok , we 'll , we 'll do...\n",
       "3680    oh , you drive me crazi . i ca n't stop the wa...\n",
       "                              ...                        \n",
       "4691    in the name of love lost i 'm frozen to her an...\n",
       "1874    crazi babi crazi babi never say die born to li...\n",
       "2233    i know it , i know it hi blood ha set me free ...\n",
       "2920    thi song wa first releas on the rocki mountain...\n",
       "1320    ( bert 's blue ) i 've been look for a good gu...\n",
       "Name: text, Length: 5000, dtype: object"
      ]
     },
     "execution_count": 24,
     "metadata": {},
     "output_type": "execute_result"
    }
   ],
   "source": [
    "df['text'].apply(lambda x: token(x))"
   ]
  },
  {
   "cell_type": "code",
   "execution_count": 25,
   "id": "5ed467ca-fa93-4349-a557-b0d3ec725aea",
   "metadata": {},
   "outputs": [],
   "source": [
    "from sklearn.feature_extraction.text import TfidfVectorizer\n",
    "from sklearn.metrics.pairwise import cosine_similarity\n"
   ]
  },
  {
   "cell_type": "code",
   "execution_count": 26,
   "id": "adc1333d-1b46-4d48-80a9-dfe1c666fff9",
   "metadata": {},
   "outputs": [],
   "source": [
    "tfidf = TfidfVectorizer(analyzer='word', stop_words='english')\n"
   ]
  },
  {
   "cell_type": "code",
   "execution_count": 27,
   "id": "4414e01b-0514-4982-81e5-3d8bcfbddabc",
   "metadata": {},
   "outputs": [],
   "source": [
    "matrix = tfidf.fit_transform(df['text'])"
   ]
  },
  {
   "cell_type": "code",
   "execution_count": 28,
   "id": "51a14e4c-79d4-4d53-96d1-eacfffef2c05",
   "metadata": {},
   "outputs": [],
   "source": [
    " similer = cosine_similarity(matrix)"
   ]
  },
  {
   "cell_type": "code",
   "execution_count": 29,
   "id": "464ad72f-e209-44af-8415-60764bb3a36d",
   "metadata": {},
   "outputs": [
    {
     "data": {
      "text/plain": [
       "array([1.        , 0.02235388, 0.        , ..., 0.0201999 , 0.02825723,\n",
       "       0.02515753], shape=(5000,))"
      ]
     },
     "execution_count": 29,
     "metadata": {},
     "output_type": "execute_result"
    }
   ],
   "source": [
    "similer[0]"
   ]
  },
  {
   "cell_type": "code",
   "execution_count": 31,
   "id": "592604a4-16fc-4f6d-b831-87929e1a4bb6",
   "metadata": {},
   "outputs": [
    {
     "data": {
      "text/plain": [
       "np.int64(4691)"
      ]
     },
     "execution_count": 31,
     "metadata": {},
     "output_type": "execute_result"
    }
   ],
   "source": [
    "df[df['song']=='Like St. Valentine'].index[0]"
   ]
  },
  {
   "cell_type": "markdown",
   "id": "dc4c31ef-a39e-42c5-869b-5a32404a6a85",
   "metadata": {},
   "source": [
    "Recommender Function"
   ]
  },
  {
   "cell_type": "code",
   "execution_count": 42,
   "id": "f0aac209-5fd9-4661-9791-751b86b3e759",
   "metadata": {},
   "outputs": [],
   "source": [
    "def recommender(song_name, top_n=10):\n",
    "    idx = df[df['song'] == song_name].index[0]\n",
    "    distance = list(enumerate(similer[idx]))\n",
    "    distance = sorted(distance, reverse=True, key=lambda x: x[1])\n",
    "    \n",
    "    recommendations = []\n",
    "    for s_id, score in distance[1:top_n+1]:\n",
    "        recommendations.append((df.iloc[s_id].song, round(float(score), 4)))  \n",
    "    return recommendations\n",
    "\n"
   ]
  },
  {
   "cell_type": "code",
   "execution_count": 43,
   "id": "3d9277f5-a2aa-488b-9c84-916a3dd918e9",
   "metadata": {},
   "outputs": [
    {
     "data": {
      "text/plain": [
       "[('Walk On By', 0.3953),\n",
       " (\"Two Out Of Three Ain't Bad\", 0.3425),\n",
       " ('Good Times', 0.3055),\n",
       " ('Talk Talk', 0.3047),\n",
       " ('Atmosphere', 0.3006)]"
      ]
     },
     "execution_count": 43,
     "metadata": {},
     "output_type": "execute_result"
    }
   ],
   "source": [
    "recommender(\"Like St. Valentine\", top_n=5)\n"
   ]
  },
  {
   "cell_type": "code",
   "execution_count": 39,
   "id": "5ba8117c-1240-4923-b252-bd2d0ecdb96b",
   "metadata": {},
   "outputs": [],
   "source": [
    "import pickle\n",
    "pickle.dump(similer, open(\"similer.pkl\", \"wb\"))\n",
    "pickle.dump(df, open(\"df.pkl\", \"wb\"))"
   ]
  },
  {
   "cell_type": "code",
   "execution_count": null,
   "id": "bc3d75d6-9650-4981-ae93-01cc953a18d6",
   "metadata": {},
   "outputs": [],
   "source": []
  }
 ],
 "metadata": {
  "kernelspec": {
   "display_name": "Python 3 (ipykernel)",
   "language": "python",
   "name": "python3"
  },
  "language_info": {
   "codemirror_mode": {
    "name": "ipython",
    "version": 3
   },
   "file_extension": ".py",
   "mimetype": "text/x-python",
   "name": "python",
   "nbconvert_exporter": "python",
   "pygments_lexer": "ipython3",
   "version": "3.13.5"
  }
 },
 "nbformat": 4,
 "nbformat_minor": 5
}
